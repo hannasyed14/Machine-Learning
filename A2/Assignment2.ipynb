{
 "cells": [
  {
   "cell_type": "code",
   "execution_count": 11,
   "id": "40188316-e6e6-499e-a579-39d80ae932b2",
   "metadata": {},
   "outputs": [],
   "source": [
    "import numpy as np\n",
    "import matplotlib . pyplot as plt\n",
    "import time"
   ]
  },
  {
   "cell_type": "code",
   "execution_count": 13,
   "id": "5f492583-2462-4551-994c-5dc853bec1f0",
   "metadata": {},
   "outputs": [],
   "source": [
    "# Features : [ size (1000 sqft ), number of bedrooms , age of house ( years )]\n",
    "X = np.array ([[1.0 , 3 , 10] , [1.5 , 3 , 15] , [2.0 , 4 , 5] ,\n",
    "    [2.5 , 4 , 12] , [3.0 , 5 , 8] , [3.2 , 5 , 20]])\n",
    "y = np.array ([300 , 350 , 480 , 430 , 630 , 730]) # Prices in $1000s"
   ]
  },
  {
   "cell_type": "code",
   "execution_count": 15,
   "id": "17937c86-7c83-41bf-8933-64d8f791d73c",
   "metadata": {},
   "outputs": [
    {
     "name": "stdout",
     "output_type": "stream",
     "text": [
      "(6, 3)\n",
      "(6,)\n"
     ]
    }
   ],
   "source": [
    "#Print the shapes of X and y to verify the data structure\n",
    "print(X.shape)\n",
    "print(y.shape)"
   ]
  },
  {
   "cell_type": "code",
   "execution_count": 17,
   "id": "77d652a6-3a6c-4ba3-ba76-77ddaf31e861",
   "metadata": {},
   "outputs": [],
   "source": [
    "def compute_cost (X , y , w , b ) :\n",
    "    m = X.shape[0]\n",
    "    total_cost = 0\n",
    "    for i in range (m) :\n",
    "        f_wb = np.dot ( X [ i ] , w ) + b\n",
    "        cost = ( f_wb - y [ i ]) ** 2\n",
    "        total_cost += cost\n",
    "    total_cost = total_cost / (2 * m )\n",
    "    return total_cost"
   ]
  },
  {
   "cell_type": "code",
   "execution_count": 19,
   "id": "df0fe042-bfc2-432d-add3-de131fafcda4",
   "metadata": {},
   "outputs": [
    {
     "name": "stdout",
     "output_type": "stream",
     "text": [
      " Initial cost : 129800.0\n"
     ]
    }
   ],
   "source": [
    "initial_w = np.zeros(X.shape[1])\n",
    "initial_b = 0\n",
    "cost = compute_cost (X , y , initial_w , initial_b)\n",
    "print ( f\" Initial cost : {cost}\")"
   ]
  },
  {
   "cell_type": "code",
   "execution_count": 21,
   "id": "a90e370a-e1e0-4381-93e1-f4c7c616cbe6",
   "metadata": {},
   "outputs": [],
   "source": [
    "def gradient_descent (X , y , w_in , b_in , alpha , num_iters ):\n",
    "    m , n = X . shape\n",
    "    w = w_in . copy ()\n",
    "    b = b_in\n",
    "    for i in range ( num_iters ) :\n",
    "        dj_dw = np . zeros ( n )\n",
    "        dj_db = 0\n",
    "        for j in range ( m ) :\n",
    "            err = ( np . dot ( X [ j ] , w ) + b ) - y [ j ]\n",
    "            for k in range ( n ) :\n",
    "                dj_dw [ k ] += err * X [ j ][ k ]\n",
    "            dj_db += err\n",
    "        w = w - alpha * dj_dw / m\n",
    "        b = b - alpha * dj_db / m\n",
    "    return w , b"
   ]
  },
  {
   "cell_type": "code",
   "execution_count": 23,
   "id": "ee20ccef-e0c9-450a-af45-cc316a9a0433",
   "metadata": {},
   "outputs": [
    {
     "name": "stdout",
     "output_type": "stream",
     "text": [
      " Final w: [81.80135658 78.61218542  2.62242951] , Final b: -34.842667570641\n"
     ]
    }
   ],
   "source": [
    "iterations = 1000\n",
    "alpha = 0.01\n",
    "w , b = gradient_descent (X , y , initial_w , initial_b ,\n",
    "    alpha , iterations )\n",
    "print(f\" Final w: {w} , Final b: {b}\")"
   ]
  },
  {
   "cell_type": "code",
   "execution_count": 25,
   "id": "5688a591-81a1-49f0-8c6e-e6b6b388c1f8",
   "metadata": {},
   "outputs": [],
   "source": [
    "def normalize_features (X) :\n",
    "    return (X - np . mean (X , axis =0)) / np.std(X , axis =0)\n",
    "\n",
    "X_normalized = normalize_features (X)"
   ]
  },
  {
   "cell_type": "code",
   "execution_count": 27,
   "id": "e7610181-1ffe-49e2-b56a-b518d3815ba4",
   "metadata": {},
   "outputs": [
    {
     "name": "stdout",
     "output_type": "stream",
     "text": [
      "Final w with normalization: [ 38.47900849 102.21717425  23.19037466], Final b with normalization: 486.64565665959344\n"
     ]
    }
   ],
   "source": [
    "w_norm, b_norm = gradient_descent(X_normalized, y, initial_w, initial_b, alpha, iterations)\n",
    "print(f\"Final w with normalization: {w_norm}, Final b with normalization: {b_norm}\")\n"
   ]
  },
  {
   "cell_type": "code",
   "execution_count": 29,
   "id": "ed20ee48-ca04-407c-9921-db23386f89a9",
   "metadata": {},
   "outputs": [],
   "source": [
    "# Without normalization the intercept is negative. With normalization it is much larger and positive \n",
    "# This shows how normalization shifts data to be more centered \n",
    "# Normalizaiton improves the stability of the gradient descent "
   ]
  },
  {
   "cell_type": "code",
   "execution_count": 31,
   "id": "ac3a35c2-a090-4aaa-a13d-e6247ba1b0ea",
   "metadata": {},
   "outputs": [],
   "source": [
    "def predict (X , w , b):\n",
    "    return np . dot (X , w) + b"
   ]
  },
  {
   "cell_type": "code",
   "execution_count": 33,
   "id": "33facaab-07d1-48ac-80bf-b834dc838eec",
   "metadata": {},
   "outputs": [
    {
     "name": "stdout",
     "output_type": "stream",
     "text": [
      "Predicted price for the new house: $31080.34\n"
     ]
    }
   ],
   "source": [
    "new_house = np.array ([2.8 , 4 , 18]) # 2800 sqft , 4 bedrooms , 18 years old\n",
    "new_house_normalized = (new_house - np . mean (X , axis =0))/ np.std(X , axis =0)\n",
    "predicted_price = predict ( new_house_normalized , w , b )\n",
    "print(f\"Predicted price for the new house: ${predicted_price * 1000:.2f}\")"
   ]
  },
  {
   "cell_type": "code",
   "execution_count": 35,
   "id": "a75ac883-ff9c-4479-80df-30159a6e140f",
   "metadata": {},
   "outputs": [],
   "source": [
    "def compute_cost_vectorized(X, y, w, b):\n",
    "    m = X.shape[0]\n",
    "    f_wb = np.dot(X, w) + b\n",
    "    total_cost = np.sum((f_wb - y) ** 2) / (2 * m)\n",
    "    return total_cost\n",
    "def gradient_descent_vectorized (X , y , w_in , b_in , alpha , num_iters):\n",
    "    m , n = X.shape\n",
    "    w = w_in.copy()\n",
    "    b = b_in\n",
    "    for i in range ( num_iters ):\n",
    "        f_wb = np . dot (X , w ) + b\n",
    "        dj_dw = np . dot ( X .T , ( f_wb - y ) ) / m\n",
    "        dj_db = np .sum( f_wb - y ) / m\n",
    "        w = w - alpha * dj_dw\n",
    "        b = b - alpha * dj_db\n",
    "    return w , b"
   ]
  },
  {
   "cell_type": "code",
   "execution_count": 37,
   "id": "fce64124-5b32-420e-bbf1-c4c9f35f7051",
   "metadata": {},
   "outputs": [
    {
     "name": "stdout",
     "output_type": "stream",
     "text": [
      "Vectorized time: 0.023455 seconds \n",
      "Non Vectoriezed time: 0.036594 seconds \n",
      "Speedup: 1.56x\n"
     ]
    }
   ],
   "source": [
    "#Compare the execution time of vectorized and non-vectorized implementations.\n",
    "# Hyperparameters\n",
    "iterations = 1000\n",
    "alpha = 0.01\n",
    "\n",
    "# Vectorized version\n",
    "start_time = time.time()\n",
    "w_vec, b_vec = gradient_descent_vectorized(X, y, initial_w, initial_b, alpha, iterations)\n",
    "vec_time = time.time() - start_time\n",
    "\n",
    "# Non Vectorized\n",
    "start_time = time.time()\n",
    "w_nv, b_nv = gradient_descent(X, y, initial_w, initial_b, alpha, iterations)\n",
    "nv_time = time.time() - start_time\n",
    "\n",
    "# Print results\n",
    "print(f\"Vectorized time: {vec_time:.6f} seconds \")\n",
    "print(f\"Non Vectoriezed time: {nv_time:.6f} seconds \")\n",
    "print(f\"Speedup: {nv_time / vec_time:.2f}x\")"
   ]
  },
  {
   "cell_type": "code",
   "execution_count": 39,
   "id": "e95d774b-ad7b-45c8-a5dc-1c4c9fe44230",
   "metadata": {},
   "outputs": [
    {
     "data": {
      "image/png": "[encoded data removed]",
      "text/plain": [
       "<Figure size 640x480 with 1 Axes>"
      ]
     },
     "metadata": {},
     "output_type": "display_data"
    }
   ],
   "source": [
    "costs = []\n",
    "w_tmp, b_tmp = initial_w.copy(), initial_b\n",
    "for i in range(iterations):\n",
    "    cost = compute_cost_vectorized(X, y, w_tmp, b_tmp)\n",
    "    costs.append(cost)\n",
    "    w_tmp, b_tmp = gradient_descent_vectorized(X, y, w_tmp, b_tmp, alpha, 1)\n",
    "\n",
    "plt.plot(range(iterations), costs)\n",
    "plt.xlabel(\"Iterations\")\n",
    "plt.ylabel(\"Cost\")\n",
    "plt.title(\"Cost vs Iterations\")\n",
    "plt.show()"
   ]
  },
  {
   "cell_type": "code",
   "execution_count": 41,
   "id": "6885a5b4-f548-4716-b47f-745b29e343b0",
   "metadata": {},
   "outputs": [],
   "source": [
    "# 7.1 Plot the cost vs. iterations for both implementations\n",
    "\n",
    "# - The cost function decreases over iterations, \n",
    "#   confirming that our model is learning\n",
    "\n",
    "# - The vectorized implementation converges faster, \n",
    "#    as it updates parameters more efficiently\n",
    "\n",
    "# - The initial cost of 129800.0 decreases until convergence, \n",
    "#   showing the good effect of gradient descent"
   ]
  },
  {
   "cell_type": "code",
   "execution_count": 43,
   "id": "ef1e1b3c-1d8e-4bcc-9fd8-7e57ea2cb9ac",
   "metadata": {},
   "outputs": [],
   "source": [
    "# 7.2 Discuss the impact of feature scaling on the convergence of gradient descent\n",
    "\n",
    "# - Feature scaling helps in faster convergence by ensuring \n",
    "#   all features contribute equally\n",
    "\n",
    "# - Z score normalization improves optimization by adjusting to a common scale\n",
    "\n",
    "# - With normalization, the final w values are [38.48, 102.22, 23.19], \n",
    "#   showing a more balanced weight distribution compared to \n",
    "#   [81.80, 78.61, 2.62] without normalization\n",
    "\n",
    "# - If we don't scale the features, those with larger values like house size, \n",
    "#   will have more influence on the model's updates making \n",
    "#   it take longer to converge"
   ]
  },
  {
   "cell_type": "code",
   "execution_count": 45,
   "id": "090e3277-89ec-4e12-8b76-97bb88008b0f",
   "metadata": {},
   "outputs": [],
   "source": [
    "# 7.3 Compare the efficiency of vectorized and non-vectorized implementations.\n",
    "\n",
    "# - Vectorized gradient descent is significantly faster than the \n",
    "#   non-vectorized implementation with a speed up of 1.56x\n",
    "\n",
    "# - The speed up is caused by NumPy’s optimized matrix operations for \n",
    "#   allowing for efficient computations.\n",
    "\n",
    "# - The vectorized version also has less loops. This causes less \n",
    "#   redudancy and reduces steps and time\n",
    "# - The vectorized version also has a better us of the CPU and memory\n"
   ]
  },
  {
   "cell_type": "code",
   "execution_count": 47,
   "id": "e2c2d384-c36e-43fc-a657-ea0c9629bf5d",
   "metadata": {},
   "outputs": [],
   "source": [
    "# 7.4 Reflect on the accuracy of your model and suggest potential improvements.\n",
    "\n",
    "# - The predicted price for a new house (2800 sqft, 4 bedrooms,\n",
    "#   18 years old) is $31080.34.\n",
    "\n",
    "# - The initial cost was 129,800.0, which significantly decreased showing \n",
    "#   that the model is learning \n",
    "\n",
    "# - A source of bias could come from ommitted variables. \n",
    "\n",
    "# - This could include: location, school district, taxes, walkability, etc. \n",
    "#   These factors significantly influence housing prices but are not \n",
    "#   included in the current dataset\n",
    "\n",
    "# - Our model captures a linear model and may not be the best fit for a \n",
    "#   house price model\n",
    "\n"
   ]
  }
 ],
 "metadata": {
  "kernelspec": {
   "display_name": "Python [conda env:base] *",
   "language": "python",
   "name": "conda-base-py"
  },
  "language_info": {
   "codemirror_mode": {
    "name": "ipython",
    "version": 3
   },
   "file_extension": ".py",
   "mimetype": "text/x-python",
   "name": "python",
   "nbconvert_exporter": "python",
   "pygments_lexer": "ipython3",
   "version": "3.12.7"
  }
 },
 "nbformat": 4,
 "nbformat_minor": 5
}
