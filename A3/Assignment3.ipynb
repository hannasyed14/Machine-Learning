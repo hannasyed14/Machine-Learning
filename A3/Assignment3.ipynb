{
 "cells": [
  {
   "cell_type": "code",
   "execution_count": 49,
   "id": "46ef9c57-a570-44fa-80d9-8fc6bffbdecd",
   "metadata": {},
   "outputs": [],
   "source": [
    "# Import \n",
    "\n",
    "import numpy as np\n",
    "# - `numpy` is imported to handle numerical computations, particularly for arrays\n",
    "\n",
    "import matplotlib.pyplot as plt\n",
    "# - `matplotlib.pyplot` is used for creating visualizations for \n",
    "#    understanding data distribution and model performance.\n"
   ]
  },
  {
   "cell_type": "code",
   "execution_count": 51,
   "id": "78564870-f4ff-4f9e-8858-a0185dec3429",
   "metadata": {},
   "outputs": [],
   "source": [
    "# 1) Implementing Data \n",
    "\n",
    "data = np.array([\n",
    "    [12, 2, 0], [20, 6, 0], [35, 4, 1], [50, 8, 1],\n",
    "    [15, 3, 0], [45, 10, 1]])\n",
    "# - Dataset is loaded into a NumPy array so it can be manipulated\n",
    "\n",
    "X = data[:, :2]  \n",
    "y = data[:, 2] \n",
    "# - `X` gets the first two columns (features)\n",
    "# - `y` gets the third column (target variable)"
   ]
  },
  {
   "cell_type": "code",
   "execution_count": 72,
   "id": "25058d03-d7c5-486a-a062-6713f31e606a",
   "metadata": {},
   "outputs": [
    {
     "data": {
      "image/png": "[encoded data removed]",
      "text/plain": [
       "<Figure size 800x600 with 1 Axes>"
      ]
     },
     "metadata": {},
     "output_type": "display_data"
    }
   ],
   "source": [
    "# Visualizing Data \n",
    "\n",
    "plt.figure(figsize=(8, 6))\n",
    "pos = y == 1\n",
    "neg = y == 0\n",
    "\n",
    "plt.scatter(X[pos, 0], X[pos, 1], c='blue', label='Purchased')\n",
    "plt.scatter(X[neg, 0], X[neg, 1], c='pink', label='Not Purchased')\n",
    "plt.xlabel('Time on Website (min)')\n",
    "plt.ylabel('Pages Visited')\n",
    "plt.legend()\n",
    "plt.title('Customer Purchase Data')\n",
    "plt.show()\n",
    "\n",
    "# - Generates a scatter plot that visualizes the relationship between \n",
    "#   time spent on the website and number of pages visited\n",
    "# - Shows whether customers purchased (blue) or did not(pink)"
   ]
  },
  {
   "cell_type": "code",
   "execution_count": 76,
   "id": "ad457beb-a76a-42cb-9c55-97fe09c9b9a1",
   "metadata": {},
   "outputs": [],
   "source": [
    "# Purchased Customers (Blue Points):\n",
    "# - Points generally clustered toward the top right corner\n",
    "# - Meaning customers who spent more time and visited more \n",
    "#   pages were more likely to purchase\n",
    "\n",
    "# Not Purchased Customers (Pink Points): \n",
    "# - Points generally in the bottom-left corner\n",
    "# - Customers with shorter visit times and fewer pages \n",
    "#   visited were less likely to buy\n",
    "\n",
    "# - Could be outliers like a customer spending moderate time \n",
    "#   with little pages visited but still purchased or the opp."
   ]
  },
  {
   "cell_type": "code",
   "execution_count": 55,
   "id": "61586932-eea0-45cc-b675-709b6b12f1a6",
   "metadata": {},
   "outputs": [
    {
     "name": "stdout",
     "output_type": "stream",
     "text": [
      "Sigmoid: [0.5        0.88079708 0.26894142]\n"
     ]
    }
   ],
   "source": [
    "# 2) Implementing Sigmoid Function\n",
    "\n",
    "def sigmoid(z):\n",
    "    return 1 / (1 + np.exp(-z))\n",
    "\n",
    "# Test the sigmoid function\n",
    "z = np.array([0, 2, -1])\n",
    "print(\"Sigmoid:\", sigmoid(z))\n",
    "\n",
    "# - The sigmoid function converts linear combos of inputs into \n",
    "#   probabilities\n",
    "\n",
    "# Sigmoid(0) = 0.5\n",
    "# - the model predicts 50% probability showing uncertainty about the outcome\n",
    "# Sigmoid(2) = 0.88079708\n",
    "# - indicates high probability of customer purchased \n",
    "# Sigmoid(-1) = 0.26894142\n",
    "# - indicates low probability of customer purchased \n",
    "\n",
    "# When z is very large its positive, e^(-z) approaches 0, then sigmoid \n",
    "# output close to 1. When z is very small (negative), e^(-z) becomes  \n",
    "# very large, making the sigmoid output is close to 0. \n",
    "# The sigmoid function asymptotically approaches 1 for large z and 0 \n",
    "# for small z. The curve flattens approaching infinity or neg infinity\n",
    "# leading to very small gradient values"
   ]
  },
  {
   "cell_type": "code",
   "execution_count": 57,
   "id": "9a6b6d43-a8c4-44ce-adb8-68d5d5600f6b",
   "metadata": {},
   "outputs": [
    {
     "name": "stdout",
     "output_type": "stream",
     "text": [
      "Initial Cost: 0.6931471805599453\n"
     ]
    }
   ],
   "source": [
    "# 3) Implementing Compute Cost Function \n",
    "\n",
    "def compute_cost(X, y, w, b):\n",
    "    m = len(y)\n",
    "    cost = 0\n",
    "    for i in range(m):\n",
    "        z = np.dot(X[i], w) + b\n",
    "        f_wb = sigmoid(z)\n",
    "        cost += -y[i] * np.log(f_wb) - (1 - y[i]) * np.log(1 - f_wb)\n",
    "    return cost / m\n",
    "\n",
    "w = np.zeros(2)\n",
    "b = 0\n",
    "cost = compute_cost(X, y, w, b)\n",
    "print(\"Initial Cost:\", cost)\n",
    "\n",
    "# - The cost function measures how well the model’s predictions \n",
    "#   match the results of purchased vs. no purchased\n",
    "# - measures how far off the model’s predictions are\n",
    "# - higher cost means worse lower cost is better model performance\n",
    "# - Based on the initial cost of 0.6931471805599453 it is clear the \n",
    "#   model has not learned anything yet and making random guesses \n",
    "# - We want to train this model to bring the value down \n",
    "\n",
    "# When the weights are initialized to 0, the model predicts a probability\n",
    "# of 0.5 for all examples since sigmoid(0) = 0.5. This leads to a high initial \n",
    "# cost roughly 0.693 for binary classification. This happens because the model\n",
    "# hasnt learned any relationship between the features and the target variable, \n",
    "# so it makes random guesses.\n",
    "# When predictions are far from actual values, the cost increases, pushing the \n",
    "# model to adjust weights and bias for better accuracy."
   ]
  },
  {
   "cell_type": "code",
   "execution_count": 59,
   "id": "d7aed8c8-c5bb-413e-a258-5037e8b6a785",
   "metadata": {},
   "outputs": [],
   "source": [
    "# 3) Implementing Gradient Descent Function \n",
    "\n",
    "def gradient_descent(X, y, w_in, b_in, alpha, num_iters):\n",
    "    m = len(y)\n",
    "    w = w_in.copy()\n",
    "    b = b_in\n",
    "\n",
    "    for i in range(num_iters):\n",
    "        dj_dw = np.zeros(X.shape[1])\n",
    "        dj_db = 0\n",
    "\n",
    "        for j in range(m):\n",
    "            z = np.dot(X[j], w) + b\n",
    "            f_wb = sigmoid(z)\n",
    "            err = f_wb - y[j]\n",
    "            dj_dw += err * X[j]\n",
    "            dj_db += err\n",
    "\n",
    "        w -= alpha * dj_dw / m\n",
    "        b -= alpha * dj_db / m\n",
    "\n",
    "    return w, b\n",
    "    \n",
    "# - loop updates the weights and bias by calculating the prediction error for \n",
    "#   each training example, computing the gradients, and adjusting the parameters \n",
    "# - Gradient descent is a iterative process that updates model  \n",
    "#   parameters to minimize prediction error\n",
    "# - alpha too high leads to instability, too low slows convergence.\n",
    "# - each update makes the model more accurate over time\n",
    "\n",
    "# During gradient descent, the weights and bias are updated by subtracting the\n",
    "# alpha(learning rate) multiplied by the gradients, shifting values to  \n",
    "# reduce the cost. If the a is too large, the model diverges. \n",
    "# If α is too small, convergences takes longer."
   ]
  },
  {
   "cell_type": "code",
   "execution_count": 61,
   "id": "f487f568-0b58-40a5-9fba-d0c299113bbe",
   "metadata": {},
   "outputs": [
    {
     "name": "stdout",
     "output_type": "stream",
     "text": [
      "Final weights: [ 0.21883731 -0.74428752], Final bias: -1.422071305711537\n"
     ]
    }
   ],
   "source": [
    "# Train Model \n",
    "\n",
    "iterations = 1000\n",
    "alpha = 0.01\n",
    "w_final, b_final = gradient_descent(X, y, w, b, alpha, iterations)\n",
    "print(f\"Final weights: {w_final}, Final bias: {b_final}\")\n",
    "\n",
    "# - Runs gradient descent for 1000 iterations \n",
    "# - Learning rate = .01 (how large parameter updates) \n",
    "# - minimizes the cost function and improve the model’s predictability\n",
    "\n",
    "# 0.219 = time spent on website\n",
    "# shows that as time on the website increases, probability of purchase increases\n",
    "# 0.744 = number of pages visited\n",
    "# shows that as # of pgs increases, probability of purchase decreases\n",
    "# -1.42 = bias \n",
    "# Lowers the base probability of purchase"
   ]
  },
  {
   "cell_type": "code",
   "execution_count": 63,
   "id": "805e825e-d977-4770-8feb-2a5449a88a7b",
   "metadata": {},
   "outputs": [
    {
     "name": "stdout",
     "output_type": "stream",
     "text": [
      "Regularized Cost: 0.6931471805599453\n"
     ]
    }
   ],
   "source": [
    "# 5) Implementing Regularization\n",
    "\n",
    "def compute_cost_regularized(X, y, w, b, lambda_):\n",
    "    m = len(y)\n",
    "    cost = compute_cost(X, y, w, b)\n",
    "    reg_cost = (lambda_ / (2 * m)) * np.sum(w ** 2)\n",
    "    return cost + reg_cost\n",
    "\n",
    "lambda_ = 0.1\n",
    "reg_cost = compute_cost_regularized(X, y, w, b, lambda_)\n",
    "print(\"Regularized Cost:\", reg_cost)\n",
    "\n",
    "# - Implementing Regularization reduces overfitting by penalizing large weights\n",
    "# - the higher the lambda, the stronger the penalty \n",
    "# - This function improves generalization, and doesnt sacrafice accuracy \n",
    "\n",
    "# - Regularized Cost≈ Initial Cost\n",
    "# - No penalty is added since the weights are initially zero \n",
    "# - Regularization only impacts cost only when weights grow in training the model\n",
    "\n",
    "# Regularization prevents overfitting by penalizing large weights. Increasing lambda \n",
    "# reduces overfitting but too large of a lambda can also cause underfitting.\n"
   ]
  },
  {
   "cell_type": "code",
   "execution_count": 65,
   "id": "847f121b-7d1e-49f6-85ae-8d9d510a2a4d",
   "metadata": {},
   "outputs": [
    {
     "name": "stdout",
     "output_type": "stream",
     "text": [
      "Alpha: 0.001, Lambda: 0, Regularized Cost: 0.5000528070769931\n",
      "Alpha: 0.001, Lambda: 0.01, Regularized Cost: 0.500110129763024\n",
      "Alpha: 0.001, Lambda: 0.1, Regularized Cost: 0.500626033937303\n",
      "Alpha: 0.01, Lambda: 0, Regularized Cost: 0.2780051423684853\n",
      "Alpha: 0.01, Lambda: 0.01, Regularized Cost: 0.278506687108124\n",
      "Alpha: 0.01, Lambda: 0.1, Regularized Cost: 0.28302058976487227\n",
      "Alpha: 0.1, Lambda: 0, Regularized Cost: 0.016074080674899724\n",
      "Alpha: 0.1, Lambda: 0.01, Regularized Cost: 0.03456700091979141\n",
      "Alpha: 0.1, Lambda: 0.1, Regularized Cost: 0.20100328312381655\n"
     ]
    }
   ],
   "source": [
    "# Experimenting with α and λ\n",
    "\n",
    "alphas = [0.001, 0.01, 0.1]\n",
    "lambdas = [0, 0.01, 0.1]\n",
    "\n",
    "for alpha in alphas:\n",
    "    for lambda_ in lambdas:\n",
    "        w_final, b_final = gradient_descent(X, y, w, b, alpha, 1000)\n",
    "        cost_reg = compute_cost_regularized(X, y, w_final, b_final, lambda_)\n",
    "        print(f\"Alpha: {alpha}, Lambda: {lambda_}, Regularized Cost: {cost_reg}\")\n",
    "\n",
    "# - this for loop tests different combinations of the learning rate (alpha) and \n",
    "#   regularization strength (lambda) to see how they affect the model’s \n",
    "#   performance and the regularized cost\n",
    "\n",
    "# Smaller alpha has slow convergence, need more iterations for the cost to decrease.\n",
    "# Larger αlpha has fast convergence but can cause the cost to diverge if too big.\n",
    "# Smaller lambda lets model fit data closely but can lead to overfitting.\n",
    "# Larger lamda reduces overfitting but can cause underfitting making cost higher.\n",
    "# Moderate alpha and lamda leads to fastest and stable convergence with lowest cost.\n",
    "\n",
    "# Best combinations based on outputs: \n",
    "# Alpha = 0.1, Lamda = 0 \n",
    "# - Achieves the lowest cost but may risk overfitting\n",
    "# Alpha = 0.1, Lamda = 0.1\n",
    "# - Slightly higher cost but most likely better for generalization"
   ]
  },
  {
   "cell_type": "code",
   "execution_count": 66,
   "id": "ae985d46-03d1-4bb5-9f9a-3fd801cec8c8",
   "metadata": {},
   "outputs": [
    {
     "name": "stdout",
     "output_type": "stream",
     "text": [
      "Accuracy: 100.0 %\n"
     ]
    }
   ],
   "source": [
    "# 6) Making Predictions and Evaluating Accuracy\n",
    "\n",
    "def predict(X, w, b):\n",
    "    m = len(y)\n",
    "    preds = np.zeros(m)\n",
    "    for i in range(m):\n",
    "        z = np.dot(X[i], w) + b\n",
    "        preds[i] = 1 if sigmoid(z) >= 0.5 else 0\n",
    "    return preds\n",
    "\n",
    "predictions = predict(X, w_final, b_final)\n",
    "accuracy = np.mean(predictions == y) * 100\n",
    "print(\"Accuracy:\", accuracy, \"%\")\n",
    "\n",
    "# - The prediction function calculates the accuracy of the logistic regression model\n",
    "# - Uses the final learned weights and bias to predict if customer purchased\n",
    "# - measures how many predictions match the actual\n",
    "\n",
    "# - The outcome 100% accuracy shows perfect predictions on the training set\n",
    "\n",
    "# The model achieved an accuracy of 100%, which means it perfectly predicted \n",
    "# all purchase decisions in the dataset. It meets expectations, especially since\n",
    "# the data set is small. Time spent on the website and pages visited seem to be \n",
    "# strong indicators of customer purchasing. Inorder to improve the model, we \n",
    "# should test on a new dataset. Also making the sample size >= 30. We can also \n",
    "# add previous purchases as a factor to see if it improves accuracy. "
   ]
  },
  {
   "cell_type": "code",
   "execution_count": null,
   "id": "304d7d06-64ac-4b85-9355-16a6286387b6",
   "metadata": {},
   "outputs": [],
   "source": []
  }
 ],
 "metadata": {
  "kernelspec": {
   "display_name": "Python [conda env:base] *",
   "language": "python",
   "name": "conda-base-py"
  },
  "language_info": {
   "codemirror_mode": {
    "name": "ipython",
    "version": 3
   },
   "file_extension": ".py",
   "mimetype": "text/x-python",
   "name": "python",
   "nbconvert_exporter": "python",
   "pygments_lexer": "ipython3",
   "version": "3.12.7"
  }
 },
 "nbformat": 4,
 "nbformat_minor": 5
}
